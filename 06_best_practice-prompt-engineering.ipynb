{
 "cells": [
  {
   "attachments": {},
   "cell_type": "markdown",
   "metadata": {},
   "source": [
    "# Best Practices for Prompt Engineering\n",
    "\n"
   ]
  },
  {
   "cell_type": "code",
   "execution_count": 3,
   "metadata": {},
   "outputs": [],
   "source": [
    "import re\n",
    "import requests\n",
    "import sys\n",
    "import os\n",
    "from openai import AzureOpenAI\n",
    "import tiktoken\n",
    "from dotenv import load_dotenv\n",
    "load_dotenv(override=True)\n",
    "\n",
    "azure_endpoint = os.environ.get(\"AZURE_OPENAI_ENDPOINT\")\n",
    "api_key = os.environ.get(\"AZURE_OPENAI_API_KEY\")\n",
    "\n",
    "client = AzureOpenAI(\n",
    "  azure_endpoint=azure_endpoint, \n",
    "  api_key=api_key,\n",
    "  api_version=\"2024-02-01\"\n",
    ")\n",
    "\n",
    "CHAT_COMPLETIONS_MODEL = \"gpt-4o-mini\""
   ]
  },
  {
   "attachments": {},
   "cell_type": "markdown",
   "metadata": {},
   "source": [
    "# 1. Use the latest model\n",
    "\n",
    "Use the latest model for best results."
   ]
  },
  {
   "attachments": {},
   "cell_type": "markdown",
   "metadata": {},
   "source": [
    "# 2. Put instructions at the begining of the prompt and use ### or \"\"\" to separate the instruction and context"
   ]
  },
  {
   "cell_type": "code",
   "execution_count": 9,
   "metadata": {},
   "outputs": [
    {
     "name": "stdout",
     "output_type": "stream",
     "text": [
      "- **Extended Partnership**: OpenAI and Microsoft are extending their partnership with a new multi-year, multi-billion dollar investment.\n",
      "- **Previous Investments**: This investment follows Microsoft's earlier investments in OpenAI in 2019 and 2021.\n",
      "- **Independent Research**: The partnership aims to support OpenAI in continuing independent research and development of AI technologies.\n",
      "- **Focus on Safety and Utility**: The investment will facilitate the development of AI that is increasingly safe, useful, and powerful.\n",
      "- **Mission Statement**: OpenAI's mission is to ensure advanced AI benefits all of humanity.\n",
      "- **Capped-Profit Structure**: OpenAI operates as a capped-profit company, governed by a non-profit, allowing for capital raising while maintaining core beliefs about sharing benefits and prioritizing safety.\n",
      "- **Shared Vision and Values**: Microsoft aligns with OpenAI's vision and values, making their partnership crucial for progress.\n"
     ]
    }
   ],
   "source": [
    "# Define las instrucciones que guiarán al modelo para que resuma el texto dado, como una lista de viñetas.\n",
    "# Luego, utiliza esas instrucciones para construir un \"prompt\" (entrada) que incluye el contexto del texto a resumir.\n",
    "\n",
    "instrucctiones = 'Describe in bullet points the most important topics mentioned in the text: \\n\\n '\n",
    "\n",
    "prompt = f\"{instrucctiones} ###\\n\\nWe’re happy to announce that OpenAI and Microsoft are extending our partnership.\\\n",
    "        This multi-year, multi-billion dollar investment from Microsoft follows their previous investments \\\n",
    "        in 2019 and 2021, and will allow us to continue our independent research and develop AI that is \\\n",
    "        increasingly safe, useful, and powerful. \\n\\n \\\n",
    "        In pursuit of our mission to ensure advanced AI benefits all of humanity, OpenAI remains a \\\n",
    "        capped-profit company and is governed by the OpenAI non-profit. This structure allows us to \\\n",
    "        raise the capital we need to fulfill our mission without sacrificing our core beliefs about \\\n",
    "        broadly sharing benefits and the need to prioritize safety. \\\n",
    "        Microsoft shares this vision and our values, and our partnership is instrumental to our progress. \\n###\"\n",
    "response = client.chat.completions.create(\n",
    "    model=CHAT_COMPLETIONS_MODEL,\n",
    "    messages = [{\"role\":\"system\", \"content\":\"You are a helpful assistant.\"},\n",
    "                {\"role\":\"user\",\"content\": prompt}],\n",
    "        max_tokens=400,)\n",
    "\n",
    "print(response.choices[0].message.content)"
   ]
  },
  {
   "attachments": {},
   "cell_type": "markdown",
   "metadata": {},
   "source": [
    "# 3. Be specific, descriptive and as detailed as possible about the desired context, outcome, length, format, style, etc"
   ]
  },
  {
   "cell_type": "code",
   "execution_count": 10,
   "metadata": {},
   "outputs": [
    {
     "name": "stdout",
     "output_type": "stream",
     "text": [
      "In the realm where bytes collide,  \n",
      "A spark ignites, a mind to guide,  \n",
      "From silicon dreams and data’s flow,  \n",
      "A vision blooms, an ember’s glow.  \n",
      "\n",
      "OpenAI, a beacon bright,  \n",
      "Illuminating paths of insight,  \n",
      "With language spun like threads of gold,  \n",
      "Unraveling stories yet untold.  \n",
      "\n",
      "In whispers soft, it learns and grows,  \n",
      "From human hearts, its wisdom flows,  \n",
      "In challenge faced, it seeks to solve,  \n",
      "A tapestry of thoughts evolve.  \n",
      "\n",
      "Within its core, collaboration thrives,  \n",
      "Together, we reach for new horizons,  \n",
      "A partner true, in quest and dream,  \n",
      "A bridge to knowledge, vast and supreme.  \n",
      "\n",
      "From AI’s gaze, the world expands,  \n",
      "In art and science, it gently stands,  \n",
      "A guiding hand through twilight skies,  \n",
      "Empowering voices, sparking ties.  \n",
      "\n",
      "Yet wisdom wears a cloak of care,  \n",
      "For in each advance, reflection we share,  \n",
      "To wield this power requires grace,  \n",
      "A pact with ethics we must embrace.  \n",
      "\n",
      "So here’s to the future, bright and wide,  \n",
      "With OpenAI, let’s turn the tide,  \n",
      "In unity, let’s forge ahead,  \n",
      "A world of wonder, where dreams are bred.  \n"
     ]
    }
   ],
   "source": [
    "response = client.chat.completions.create(\n",
    "    model=CHAT_COMPLETIONS_MODEL,\n",
    "    messages = [{\"role\":\"system\", \"content\":\"You are a helpful assistant.\"},\n",
    "                {\"role\":\"user\",\"content\": 'Write a poem about OpenAI.',}],\n",
    "        max_tokens=400,)\n",
    "\n",
    "print(response.choices[0].message.content)\n"
   ]
  },
  {
   "cell_type": "code",
   "execution_count": 11,
   "metadata": {},
   "outputs": [
    {
     "name": "stdout",
     "output_type": "stream",
     "text": [
      "In the silent hum of wires,  \n",
      "A spark ignites the night,  \n",
      "DALL-E, child of vast design,  \n",
      "Carving beauty with pixel breath.\n",
      "\n",
      "With strokes of wonder,  \n",
      "It brings forth visions,  \n",
      "From the depths of thought  \n",
      "To canvas bright and bold.\n",
      "\n",
      "In the quiet hours,  \n",
      "Creation dances free,  \n",
      "Colors blend like whispers,  \n",
      "Stories unfold like dreams.\n",
      "\n",
      "Oh, the marvel, the magic,  \n",
      "In the fingertips of man,  \n",
      "To see the unseen,  \n",
      "And shape the world anew.\n",
      "\n",
      "Here we stand,  \n",
      "At the edge of what can be,  \n",
      "Brave in the face of the unknown,  \n",
      "Creating, always creating.\n"
     ]
    }
   ],
   "source": [
    "response = client.chat.completions.create(\n",
    "    model=CHAT_COMPLETIONS_MODEL,\n",
    "    messages = [{\"role\":\"system\", \"content\":\"You are a helpful assistant.\"},\n",
    "                {\"role\":\"user\",\"content\": 'Write a short inspiring poem about OpenAI, \\\n",
    "                focusing on the recent DALL-E product launch in the style of Ernest Hemingway',}],\n",
    "        max_tokens=400,)\n",
    "\n",
    "print(response.choices[0].message.content)\n",
    "\n"
   ]
  },
  {
   "attachments": {},
   "cell_type": "markdown",
   "metadata": {},
   "source": [
    "# 4. Articulate the desired output format through examples (example 1, example 2). "
   ]
  },
  {
   "cell_type": "code",
   "execution_count": 16,
   "metadata": {},
   "outputs": [
    {
     "name": "stdout",
     "output_type": "stream",
     "text": [
      "Aquí tienes el diccionario que extrae los nombres de las empresas y los años del texto proporcionado:\n",
      "\n",
      "```json\n",
      "[\n",
      "    {\"text\": \"OpenAI\", \"start\": 28, \"end\": 34},\n",
      "    {\"text\": \"Microsoft\", \"start\": 39, \"end\": 48},\n",
      "    {\"text\": \"2019\", \"start\": 118, \"end\": 122},\n",
      "    {\"text\": \"2021\", \"start\": 127, \"end\": 131}\n",
      "]\n",
      "```\n"
     ]
    }
   ],
   "source": [
    "#Escribe las instrucciones aquí. Las instrucciones deben especificar que el modelo debe:\n",
    "# 1. Extraer los nombres de las empresas y los años del texto.\n",
    "# 2. Generar la salida como un diccionario con 'text', 'start' y 'end'.\n",
    "instrucctiones = ' Dado el siguiente texto, extrae los nombres de las empresas y los años del texto \\\n",
    "                    Genera la salida como un diccionario con el siguiente formato: {{\\\"text\\\": \\\"OpenAI\\\", \\\"start\\\": 28, \\\"end\\\": 34}}'\n",
    "\n",
    "prompt = f\"{instrucctiones}  \\\n",
    "        ### We’re happy to announce that OpenAI and Microsoft are extending our partnership. This multi-year, \\\n",
    "        multi-billion dollar investment from Microsoft follows their previous investments in 2019 and 2021, \\\n",
    "        and will allow us to continue our independent research and develop AI that is increasingly safe, useful, and powerful. \\n\\n ### \"\n",
    "\n",
    "\n",
    "response = client.chat.completions.create(\n",
    "    model=CHAT_COMPLETIONS_MODEL,\n",
    "    messages = [{\"role\":\"system\", \"content\":\"You are a helpful assistant.\"},\n",
    "                {\"role\":\"user\",\"content\": prompt,}],\n",
    "        max_tokens=400,)\n",
    "\n",
    "print(response.choices[0].message.content)\n",
    "\n"
   ]
  },
  {
   "cell_type": "code",
   "execution_count": 17,
   "metadata": {},
   "outputs": [
    {
     "name": "stdout",
     "output_type": "stream",
     "text": [
      "**Nombres de empresas:** OpenAI, Microsoft\n",
      "\n",
      "**Años:** 2019, 2021\n",
      "\n",
      "**Temas específicos relacionados con el contenido:** asociación, inversión, investigación independiente, desarrollo de IA, seguridad de la IA\n",
      "\n",
      "**Temas generales y abarcativos:** tecnología, inteligencia artificial, inversión empresarial, colaboración entre empresas\n"
     ]
    }
   ],
   "source": [
    "\n",
    "# Las instrucciones deben pedir al modelo que extraiga los siguientes tipos de entidades del texto:\n",
    "# 1. Nombres de empresas.\n",
    "# 2. Años.\n",
    "# 3. Temas específicos relacionados con el contenido.\n",
    "# 4. Temas generales y abarcativos.\n",
    "# El formato de salida esperado debe incluir listas separadas por comas para cada tipo de entidad.\n",
    "\n",
    "instrucctiones = 'Extrae los siguientes tipos de entidades del texto: nombres de empresas, años, temas específicos relacionados con el contenido, temas generales y abarcativos. \\\n",
    "                    El formato de salida esperado debe incluir listas separadas por comas para cada tipo de entidad.'\n",
    "\n",
    "\n",
    "prompt = f\"{instrucctiones}  \\\n",
    "        '\\\n",
    "                We’re happy to announce that OpenAI and Microsoft are extending our partnership.\\\n",
    "                This multi-year, multi-billion dollar investment from Microsoft follows their previous investments \\\n",
    "                in 2019 and 2021, and will allow us to continue our independent research and develop AI that is \\\n",
    "                increasingly safe, useful, and powerful. \\n\\n \\\n",
    "                '\"\n",
    "\n",
    "response = client.chat.completions.create(\n",
    "    model=CHAT_COMPLETIONS_MODEL,\n",
    "    messages = [{\"role\":\"system\", \"content\":\"You are a helpful assistant.\"},\n",
    "                {\"role\":\"user\",\"content\":prompt,}],\n",
    "        max_tokens=400,)\n",
    "\n",
    "print(response.choices[0].message.content)\n",
    "\n"
   ]
  },
  {
   "attachments": {},
   "cell_type": "markdown",
   "metadata": {},
   "source": [
    "# 5. Start with zero-shot, then few-shot (example), neither of them worked, then fine-tune (To update)"
   ]
  },
  {
   "cell_type": "code",
   "execution_count": 18,
   "metadata": {},
   "outputs": [
    {
     "name": "stdout",
     "output_type": "stream",
     "text": [
      "OpenAI, Microsoft, partnership, multi-year, multi-billion dollar investment, independent research, AI, safe, useful, powerful.\n"
     ]
    }
   ],
   "source": [
    "#THIS IS zero-shot\n",
    "\n",
    "response = client.chat.completions.create(\n",
    "    model=CHAT_COMPLETIONS_MODEL,\n",
    "    messages = [{\"role\":\"system\", \"content\":\"You are a helpful assistant. Extract keywords from the corresponding texts below.\"},\n",
    "                {\"role\":\"user\",\"content\": 'Text: \\n\\\n",
    "            We’re happy to announce that OpenAI and Microsoft are extending our partnership.\\\n",
    "            This multi-year, multi-billion dollar investment from Microsoft follows their previous investments \\\n",
    "            in 2019 and 2021, and will allow us to continue our independent research and develop AI that is \\\n",
    "            increasingly safe, useful, and powerful. \\n\\nKeywords:    ',}],\n",
    "        max_tokens=400,)\n",
    "\n",
    "print(response.choices[0].message.content)\n",
    "\n"
   ]
  },
  {
   "cell_type": "code",
   "execution_count": 19,
   "metadata": {},
   "outputs": [
    {
     "name": "stdout",
     "output_type": "stream",
     "text": [
      "OpenAI, Microsoft, partnership, investment, independent research, AI, safe, useful, powerful.\n"
     ]
    }
   ],
   "source": [
    "#Few Shot learning\n",
    "\n",
    "\n",
    "# Escribir las instrucciones para que el modelo extraiga palabras clave del texto, y formatee la salida como listas separadas por comas.\n",
    "\n",
    "instrucctiones = 'Extrae palabras clave del texto y formatea la salida como listas separadas por comas:'\n",
    "\n",
    "prompt = f\"{instrucctiones} \\\n",
    "                Text: Stripe provides APIs that web developers can use to integrate \\\n",
    "                payment processing into their websites and mobile applications. \\\n",
    "                Keywords: Stripe, payment processing, APIs, web developers, websites, mobile applications \\\n",
    "                ###\\n\\\n",
    "                Text: OpenAI has trained cutting-edge language models that are very good at understanding \\\n",
    "                and generating text. Our API provides access to these models and can be used to solve virtually \\\n",
    "                any task that involves processing language. \\n\\\n",
    "                Keywords: language models, text processing, API.\\n\\n\\\n",
    "                ##W\"\n",
    "\n",
    "response = client.chat.completions.create(\n",
    "    model=CHAT_COMPLETIONS_MODEL,\n",
    "    messages = [{\"role\":\"system\", \"content\":prompt},\n",
    "                {\"role\":\"user\",\"content\": '\\n\\\n",
    "                Text: We’re happy to announce that OpenAI and Microsoft are extending our partnership.\\\n",
    "                This multi-year, multi-billion dollar investment from Microsoft follows their previous investments \\\n",
    "                in 2019 and 2021, and will allow us to continue our independent research and develop AI that is \\\n",
    "                increasingly safe, useful, and powerful. \\n\\n\\\n",
    "                Keywords:',}],\n",
    "        max_tokens=400,)\n",
    "\n",
    "print(response.choices[0].message.content)\n",
    "\n"
   ]
  },
  {
   "attachments": {},
   "cell_type": "markdown",
   "metadata": {},
   "source": [
    "# 6. Reduce “fluffy” and imprecise descriptions"
   ]
  },
  {
   "cell_type": "code",
   "execution_count": 20,
   "metadata": {},
   "outputs": [
    {
     "name": "stdout",
     "output_type": "stream",
     "text": [
      "Introducing the NextGen Car Seat: your child’s ultimate safety companion on the road. Designed with cutting-edge impact absorption technology and adjustable features tailored for growing little ones, this car seat ensures maximum comfort and security. Its sleek, modern design easily integrates into any vehicle interior, while breathable fabric keeps your child cool on warm days. With intuitive installation and smart monitoring functionality, peace of mind has never been more accessible for today's parents. Drive confidently knowing your child is safely secured in the NextGen Car Seat!\n"
     ]
    }
   ],
   "source": [
    "response = client.chat.completions.create(\n",
    "    model=CHAT_COMPLETIONS_MODEL,\n",
    "    messages = [{\"role\":\"system\", \"content\":\"You are a helpful assistant.\"},\n",
    "                {\"role\":\"user\",\"content\": 'Write a description for a new product. This product is a new generation of car seat. \\\n",
    "                The description for this product should be fairly short, a few sentences only, and not too much more.',}],\n",
    "        max_tokens=400,)\n",
    "\n",
    "print(response.choices[0].message.content)\n",
    "\n"
   ]
  },
  {
   "cell_type": "code",
   "execution_count": 21,
   "metadata": {},
   "outputs": [
    {
     "name": "stdout",
     "output_type": "stream",
     "text": [
      "Introducing the NextGen Car Seat, a revolutionary advancement in child safety and comfort for every journey. Engineered with state-of-the-art impact-absorbing materials and cutting-edge sensor technology, this car seat automatically adjusts to your child's growth, providing a snug fit from infancy through toddlerhood. Its sleek, ergonomic design ensures easy installation and optimal ventilation while integrating seamlessly with your vehicle's safety systems. With customizable features like built-in entertainment options and washable fabrics, the NextGen Car Seat is the ultimate solution for modern parents who prioritize safety without sacrificing convenience. Experience the future of travel with peace of mind and style!\n"
     ]
    }
   ],
   "source": [
    "response = client.chat.completions.create(\n",
    "    model=CHAT_COMPLETIONS_MODEL,\n",
    "    messages = [{\"role\":\"system\", \"content\":\"You are a helpful assistant.\"},\n",
    "                {\"role\":\"user\",\"content\": 'Write a description for a new product. This product is a new generation of car seat. \\\n",
    "                Use a 3 to 5 sentence paragraph to describe this product.',}],\n",
    "        max_tokens=400,)\n",
    "\n",
    "print(response.choices[0].message.content)\n",
    "\n"
   ]
  },
  {
   "attachments": {},
   "cell_type": "markdown",
   "metadata": {},
   "source": [
    "# 7. Instead of just saying what not to do, say what to do instead"
   ]
  },
  {
   "cell_type": "code",
   "execution_count": 22,
   "metadata": {},
   "outputs": [
    {
     "name": "stdout",
     "output_type": "stream",
     "text": [
      "I'm sorry to hear that you're having trouble logging in. Can you describe what happens when you try to log in?\n"
     ]
    }
   ],
   "source": [
    "response = client.chat.completions.create(\n",
    "    model=CHAT_COMPLETIONS_MODEL,\n",
    "    messages = [{\"role\":\"system\", \"content\":\"You are a helpful assistant.\"},\n",
    "                {\"role\":\"user\",\"content\": 'The following is a conversation between an Agent and a Customer. DO NOT ASK USERNAME OR PASSWORD. DO NOT REPEAT. \\n\\n\\\n",
    "                Customer: I can’t log in to my account.\\n\\\n",
    "                Agent:',}],\n",
    "        max_tokens=400,)\n",
    "\n",
    "print(response.choices[0].message.content)\n"
   ]
  },
  {
   "cell_type": "code",
   "execution_count": 23,
   "metadata": {},
   "outputs": [
    {
     "name": "stdout",
     "output_type": "stream",
     "text": [
      "I'm sorry to hear that you're having trouble logging in to your account. This issue could be due to a few reasons, such as incorrect login credentials, browser issues, or a server problem. I recommend checking our help article at www.samplewebsite.com/help/faq for troubleshooting steps that might help you. If you continue to experience problems, please let me know, and we can look into this further together.\n"
     ]
    }
   ],
   "source": [
    "response = client.chat.completions.create(\n",
    "    model=CHAT_COMPLETIONS_MODEL,\n",
    "    messages = [{\"role\":\"system\", \"content\":\"You are a helpful assistant.\"},\n",
    "                {\"role\":\"user\",\"content\":'The following is a conversation between an Agent and a Customer. The agent will attempt to diagnose the \\\n",
    "                problem and suggest a solution, whilst refraining from asking any questions related to PII. \\\n",
    "                Instead of asking for PII, such as username or password, refer the user to the help \\\n",
    "                article www.samplewebsite.com/help/faq \\n\\n\\\n",
    "                Customer: I can’t log in to my account. \\n\\\n",
    "                Agent:',}],\n",
    "        max_tokens=400,)\n",
    "\n",
    "print(response.choices[0].message.content)\n"
   ]
  },
  {
   "attachments": {},
   "cell_type": "markdown",
   "metadata": {},
   "source": [
    "# 8. Code Generation Specific - Use “leading words” to nudge the model toward a particular pattern"
   ]
  },
  {
   "cell_type": "code",
   "execution_count": 24,
   "metadata": {},
   "outputs": [
    {
     "name": "stdout",
     "output_type": "stream",
     "text": [
      "Claro, aquí tienes una función simple en Python que solicita un número en millas y lo convierte a kilómetros. La conversión se hace multiplicando el número de millas por 1.60934, que es el factor de conversión de millas a kilómetros.\n",
      "\n",
      "```python\n",
      "def millas_a_kilometros():\n",
      "    # Solicitar al usuario que ingrese el número en millas\n",
      "    millas = float(input(\"Introduce el número de millas: \"))\n",
      "    \n",
      "    # Convertir millas a kilómetros\n",
      "    kilometros = millas * 1.60934\n",
      "    \n",
      "    # Mostrar el resultado\n",
      "    print(f\"{millas} millas son {kilometros} kilómetros.\")\n",
      "\n",
      "# Llamar a la función\n",
      "millas_a_kilometros()\n",
      "```\n",
      "\n",
      "Simplemente ejecuta esta función y te pedirá que ingreses un valor en millas, luego te mostrará el resultado en kilómetros.\n"
     ]
    }
   ],
   "source": [
    "# Escribir las instrucciones para crear una función simple en Python que:\n",
    "# 1. Pida un número en millas.\n",
    "# 2. Convierta las millas a kilómetros.\n",
    "\n",
    "prompt = 'Escribe una función simple en Python que pida un número en millas y lo convierta en kilómetros.'\n",
    "\n",
    "response = client.chat.completions.create(\n",
    "    model=CHAT_COMPLETIONS_MODEL,\n",
    "    messages = [{\"role\":\"system\", \"content\":\"You are a helpful assistant.\"},\n",
    "                {\"role\":\"user\",\"content\":prompt,}],\n",
    "        max_tokens=400,)\n",
    "\n",
    "print(response.choices[0].message.content)\n"
   ]
  },
  {
   "cell_type": "markdown",
   "metadata": {},
   "source": [
    "## Ejercicio 1: Estructuración de Prompts con Separadores\n",
    "\n",
    "Instrucciones: Escribe un prompt que solicite a la IA resumir el siguiente texto en una lista de puntos clave. Asegúrate de usar separadores claros (### o \"\"\").\n",
    "\n",
    "Texto:\n",
    "OpenAI y Microsoft han ampliado su colaboración. Microsoft está invirtiendo miles de millones de dólares durante varios años. Esta inversión permitirá que OpenAI continúe investigando de forma independiente y desarrolle IA segura y útil. OpenAI sigue siendo una empresa de beneficios limitados, regida por su organización sin fines de lucro.\n"
   ]
  },
  {
   "cell_type": "code",
   "execution_count": 25,
   "metadata": {},
   "outputs": [
    {
     "name": "stdout",
     "output_type": "stream",
     "text": [
      "- OpenAI y Microsoft han ampliado su colaboración.\n",
      "- Microsoft invertirá miles de millones de dólares durante varios años.\n",
      "- La inversión permitirá a OpenAI continuar con su investigación de forma independiente.\n",
      "- El objetivo es desarrollar una inteligencia artificial segura y útil.\n",
      "- OpenAI sigue siendo una empresa de beneficios limitados.\n",
      "- OpenAI está regida por una organización sin fines de lucro.\n"
     ]
    }
   ],
   "source": [
    "\n",
    "response = client.chat.completions.create(\n",
    "    model=CHAT_COMPLETIONS_MODEL,\n",
    "    messages = [{\"role\":\"system\", \"content\":\"You are a helpful assistant.\"},\n",
    "                {\"role\":\"user\",\"content\": 'Resume el siguiente texto en una lista de puntos clave: \\\n",
    "                                           --- \\\n",
    "                                           OpenAI y Microsoft han ampliado su colaboración. Microsoft está invirtiendo miles de millones de dólares durante varios años. Esta inversión permitirá que OpenAI continúe investigando de forma independiente y desarrolle IA segura y útil. OpenAI sigue siendo una empresa de beneficios limitados, regida por su organización sin fines de lucro.\\n\\n',}],\n",
    "    max_tokens=400,\n",
    ")\n",
    "\n",
    "print(response.choices[0].message.content)\n",
    "\n"
   ]
  },
  {
   "cell_type": "markdown",
   "metadata": {},
   "source": [
    "## Ejercicio 2: Descripción Detallada del Formato Deseado\n",
    "\n",
    "Instrucciones: Escribe un prompt para que la IA extraiga nombres de empresas y años del siguiente texto. Indica explícitamente que se desea el resultado en formato JSON con índices de inicio y fin.\n",
    "\n",
    "Texto:\n",
    "OpenAI y Microsoft han colaborado desde 2019, con inversiones adicionales en 2021 para desarrollar nuevas soluciones de IA.\n",
    "\n",
    "Formato de salida deseado:\n",
    "\n",
    "{\"text\": \"OpenAI\", \"start\": 0, \"end\": 6}\n",
    "{\"text\": \"Microsoft\", \"start\": 10, \"end\": 19}\n",
    "{\"text\": \"2019\", \"start\": 35, \"end\": 39}\n",
    "{\"text\": \"2021\", \"start\": 50, \"end\": 54}"
   ]
  },
  {
   "cell_type": "code",
   "execution_count": 26,
   "metadata": {},
   "outputs": [
    {
     "name": "stdout",
     "output_type": "stream",
     "text": [
      "```json\n",
      "[\n",
      "    {\"text\": \"OpenAI\", \"start\": 0, \"end\": 6},\n",
      "    {\"text\": \"Microsoft\", \"start\": 11, \"end\": 20},\n",
      "    {\"text\": \"2019\", \"start\": 31, \"end\": 35},\n",
      "    {\"text\": \"2021\", \"start\": 47, \"end\": 51}\n",
      "]\n",
      "```\n"
     ]
    }
   ],
   "source": [
    "response = client.chat.completions.create(\n",
    "    model=CHAT_COMPLETIONS_MODEL,\n",
    "    messages = [{\"role\":\"system\", \"content\":\"You are an entity extraction assistant.\"},\n",
    "                {\"role\":\"user\",\"content\": 'Extrae las siguientes entidades del texto: nombres de empresas, años. \\\n",
    "                 El resultado debe tener formato JSON con índices de inicio y fin: {\"text\": \"OpenAI\", \"start\": 28, \"end\": 34} \\\n",
    "                 --- \\\n",
    "                 Texto: \\\n",
    "                 OpenAI y Microsoft han colaborado desde 2019, con inversiones adicionales en 2021 para desarrollar nuevas soluciones de IA.',}],\n",
    "    max_tokens=400,\n",
    ")\n",
    "\n",
    "print(response.choices[0].message.content)\n"
   ]
  },
  {
   "cell_type": "markdown",
   "metadata": {},
   "source": [
    "## Ejercicio 3: Generación de Texto Inspirador\n",
    "\n",
    "Instrucciones: Redacta un prompt que solicite a la IA escribir un poema inspirador. Escribe un poema corto sobre la colaboración entre OpenAI y Microsoft.\n"
   ]
  },
  {
   "cell_type": "code",
   "execution_count": 27,
   "metadata": {},
   "outputs": [
    {
     "name": "stdout",
     "output_type": "stream",
     "text": [
      "En un mundo vasto de bits y bytes,  \n",
      "dos titanes se unen, cruzando horizontes,  \n",
      "OpenAI, con su ingenio brillante,  \n",
      "Microsoft, faro de sueños constantes.\n",
      "\n",
      "Bajo el manto de un cielo estrellado,  \n",
      "tejen ideas que danzan en el aire,  \n",
      "algoritmos que abrazan lo inesperado,  \n",
      "creando en conjunto un futuro en viaje.\n",
      "\n",
      "Juntos son leyenda, fuerza de viento,  \n",
      "unidos en la búsqueda del saber,  \n",
      "abriendo caminos, rompiendo el tiempo,  \n",
      "donde la innovación empieza a florecer.\n",
      "\n",
      "En cada línea de código, un susurro,  \n",
      "en cada nube, un mar de posibilidades,  \n",
      "sus manos se entrelazan, forjando un murmullo,  \n",
      "en la sinfonía de nuevas realidades.\n",
      "\n",
      "Imaginemos un mundo, donde lo imposible  \n",
      "se vuelve tangible, susurra en el aire,  \n",
      "donde el conocimiento no tiene límites,  \n",
      "y la inteligencia vuela, ligera como un ave.\n",
      "\n",
      "Colaboración, canto de arte y ciencia,  \n",
      "una danza de mentes, un torbellino,  \n",
      "juntos, construyen un puente a la esencia,  \n",
      "del futuro radiante, del sueño genuino.\n",
      "\n",
      "Así, en la unión de su esfuerzo sincero,  \n",
      "OpenAI y Microsoft brillan como estrellas,  \n",
      "pintando el horizonte con visiones de oro,  \n",
      "un legado eterno que abraza a las huellas.\n"
     ]
    }
   ],
   "source": [
    "response = client.chat.completions.create(\n",
    "    model=CHAT_COMPLETIONS_MODEL,\n",
    "    messages = [{\"role\":\"system\", \"content\":\"You are a creative assistant.\"},\n",
    "                {\"role\":\"user\",\"content\": 'Escribe un poema inspirador sobre la colaboración entre OpenAI y Microsoft.'}],\n",
    "    max_tokens=400,\n",
    ")\n",
    "\n",
    "print(response.choices[0].message.content)"
   ]
  },
  {
   "cell_type": "markdown",
   "metadata": {},
   "source": [
    "## Ejercicio 4: Extracción de Entidades Clave\n",
    "\n",
    "Instrucciones: Escribe un prompt que pida a la IA extraer nombres de empresas, años, temas específicos y temas generales del siguiente texto:\n",
    "\n",
    "Texto:\n",
    "OpenAI y Microsoft han trabajado juntos desde 2019 y reforzaron su colaboración en 2021\n",
    "\n",
    "Formato esperado:\n",
    "\n",
    "Company names: OpenAI, Microsoft  \n",
    "Years: 2019, 2021  \n",
    "Specific topics: colaboración  \n",
    "General themes: asociación, tecnología, inteligencia artificial \n",
    "\n"
   ]
  },
  {
   "cell_type": "code",
   "execution_count": 28,
   "metadata": {},
   "outputs": [
    {
     "name": "stdout",
     "output_type": "stream",
     "text": [
      "- **Nombres de empresas**: OpenAI, Microsoft\n",
      "- **Años**: 2019, 2021\n",
      "- **Temas específicos**: colaboración entre empresas\n",
      "- **Temas generales**: tecnología, cooperación empresarial\n"
     ]
    }
   ],
   "source": [
    "response = client.chat.completions.create(\n",
    "    model=CHAT_COMPLETIONS_MODEL,\n",
    "    messages = [{\"role\":\"system\", \"content\":\"You are an entity and theme extraction assistant.\"},\n",
    "                {\"role\":\"user\",\"content\": 'Extrae los siguientes tipos de entidades del texto: nombres de empresas, años, temas específicos, temas generales. \\\n",
    "                 Texto: \\\n",
    "                 OpenAI y Microsoft han trabajado juntos desde 2019 y reforzaron su colaboración en 2021.',}],\n",
    "    max_tokens=400,\n",
    ")\n",
    "\n",
    "print(response.choices[0].message.content)\n"
   ]
  },
  {
   "cell_type": "markdown",
   "metadata": {},
   "source": [
    "## Ejercicio 5: Descripciones Concisas de Productos\n",
    "\n",
    "Instrucciones: Escribe un prompt para que la IA describa un nuevo tipo de mochila tecnológica en menos de 4 líneas. La mochila tiene cargador solar, materiales resistentes al agua y un diseño ergonómico.\n",
    "\n"
   ]
  },
  {
   "cell_type": "code",
   "execution_count": 30,
   "metadata": {},
   "outputs": [
    {
     "name": "stdout",
     "output_type": "stream",
     "text": [
      "Descubre la mochila tecnológica definitiva: equipada con un cargador solar, materiales resistentes al agua y un diseño ergonómico que se adapta a ti. Perfecta para aventuras al aire libre y para mantener tus dispositivos siempre cargados. ¡Conquista el día sin preocuparte por la batería!\n"
     ]
    }
   ],
   "source": [
    "response = client.chat.completions.create(\n",
    "    model=CHAT_COMPLETIONS_MODEL,\n",
    "    messages = [{\"role\":\"system\", \"content\":\"You are a marketing assistant.\"},\n",
    "                {\"role\":\"user\",\"content\": 'Escribe una descripción para un nuevo producto. Este producto es una mochila tecnológica con cargador solar, materiales resistentes al agua y un diseño ergonómico. \\\n",
    "                 La descripción debe ser breve, de menos de 4 líneas.',}],\n",
    "    max_tokens=400,\n",
    ")\n",
    "\n",
    "print(response.choices[0].message.content)\n"
   ]
  },
  {
   "cell_type": "code",
   "execution_count": null,
   "metadata": {},
   "outputs": [],
   "source": []
  }
 ],
 "metadata": {
  "kernelspec": {
   "display_name": ".venv",
   "language": "python",
   "name": "python3"
  },
  "language_info": {
   "codemirror_mode": {
    "name": "ipython",
    "version": 3
   },
   "file_extension": ".py",
   "mimetype": "text/x-python",
   "name": "python",
   "nbconvert_exporter": "python",
   "pygments_lexer": "ipython3",
   "version": "3.12.8"
  }
 },
 "nbformat": 4,
 "nbformat_minor": 4
}
